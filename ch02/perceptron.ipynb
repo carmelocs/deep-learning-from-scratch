{
 "metadata": {
  "language_info": {
   "codemirror_mode": {
    "name": "ipython",
    "version": 3
   },
   "file_extension": ".py",
   "mimetype": "text/x-python",
   "name": "python",
   "nbconvert_exporter": "python",
   "pygments_lexer": "ipython3",
   "version": "3.7.4"
  },
  "orig_nbformat": 4,
  "kernelspec": {
   "name": "python3",
   "display_name": "Python 3.7.4 64-bit ('base': conda)"
  },
  "interpreter": {
   "hash": "c360f7f21a72e5083ad62d0bcf8bfd45b1ab32f2b7b7db5d7b0dd8bb45545b1c"
  }
 },
 "nbformat": 4,
 "nbformat_minor": 2,
 "cells": [
  {
   "source": [
    "# Perceptron"
   ],
   "cell_type": "markdown",
   "metadata": {}
  },
  {
   "cell_type": "code",
   "execution_count": 1,
   "metadata": {},
   "outputs": [],
   "source": [
    "import and_gate, or_gate, nand_gate, xor_gate"
   ]
  },
  {
   "cell_type": "code",
   "execution_count": 2,
   "metadata": {},
   "outputs": [
    {
     "output_type": "stream",
     "name": "stdout",
     "text": [
      "0 AND 0: 0\n1 AND 0: 0\n0 AND 1: 0\n1 AND 1: 1\n0 OR 0: 0\n1 OR 0: 1\n0 OR 1: 1\n1 OR 1: 1\n0 NAND 0: 1\n1 NAND 0: 1\n0 NAND 1: 1\n1 NAND 1: 0\n0 XOR 0: 0\n1 XOR 0: 1\n0 XOR 1: 1\n1 XOR 1: 0\n"
     ]
    }
   ],
   "source": [
    "values = [(0, 0), (1, 0), (0, 1), (1, 1)]\n",
    "\n",
    "for x1, x2 in values:\n",
    "    print(f'{x1} AND {x2}: {and_gate.AND(x1, x2)}')\n",
    "\n",
    "for x1, x2 in values:\n",
    "    print(f'{x1} OR {x2}: {or_gate.OR(x1, x2)}')\n",
    "\n",
    "for x1, x2 in values:\n",
    "    print(f'{x1} NAND {x2}: {nand_gate.NAND(x1, x2)}')\n",
    "\n",
    "for x1, x2 in values:    \n",
    "    print(f'{x1} XOR {x2}: {xor_gate.XOR(x1, x2)}')"
   ]
  }
 ]
}